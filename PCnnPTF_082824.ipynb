{
 "cells": [
  {
   "cell_type": "code",
   "execution_count": null,
   "metadata": {},
   "outputs": [
    {
     "data": {
      "text/plain": [
       "'3.9.13 | packaged by conda-forge | (main, May 27 2022, 17:00:33) \\n[Clang 13.0.1 ]'"
      ]
     },
     "metadata": {},
     "output_type": "display_data"
    }
   ],
   "source": [
    "import sys\n",
    "sys.version"
   ]
  },
  {
   "cell_type": "code",
   "execution_count": 23,
   "metadata": {},
   "outputs": [
    {
     "name": "stdout",
     "output_type": "stream",
     "text": [
      "TensorFlow has access to the following devices:\n",
      "[PhysicalDevice(name='/physical_device:CPU:0', device_type='CPU'), PhysicalDevice(name='/physical_device:GPU:0', device_type='GPU')]\n",
      "TensorFlow version: 2.9.1\n"
     ]
    }
   ],
   "source": [
    "import tensorflow as tf\n",
    "\n",
    "print(\n",
    "    f\"TensorFlow has access to the following devices:\\n{tf.config.list_physical_devices()}\"\n",
    ")\n",
    "print(f\"TensorFlow version: {tf.__version__}\")"
   ]
  },
  {
   "cell_type": "code",
   "execution_count": 2,
   "metadata": {},
   "outputs": [],
   "source": [
    "import numpy as np\n",
    "import pandas as pd\n",
    "import matplotlib.pyplot as plt\n",
    "from matplotlib.ticker import (MultipleLocator, AutoMinorLocator)\n",
    "import seaborn as sns\n",
    "import os\n",
    "import pickle\n",
    "import random"
   ]
  },
  {
   "attachments": {},
   "cell_type": "markdown",
   "metadata": {},
   "source": [
    "# Import data"
   ]
  },
  {
   "cell_type": "code",
   "execution_count": 20,
   "metadata": {},
   "outputs": [
    {
     "name": "stdout",
     "output_type": "stream",
     "text": [
      "(20383, 9)\n"
     ]
    },
    {
     "data": {
      "text/html": [
       "<div>\n",
       "<style scoped>\n",
       "    .dataframe tbody tr th:only-of-type {\n",
       "        vertical-align: middle;\n",
       "    }\n",
       "\n",
       "    .dataframe tbody tr th {\n",
       "        vertical-align: top;\n",
       "    }\n",
       "\n",
       "    .dataframe thead th {\n",
       "        text-align: right;\n",
       "    }\n",
       "</style>\n",
       "<table border=\"1\" class=\"dataframe\">\n",
       "  <thead>\n",
       "    <tr style=\"text-align: right;\">\n",
       "      <th></th>\n",
       "      <th>fold</th>\n",
       "      <th>no</th>\n",
       "      <th>clay</th>\n",
       "      <th>silt</th>\n",
       "      <th>sand</th>\n",
       "      <th>BD</th>\n",
       "      <th>omc</th>\n",
       "      <th>pF</th>\n",
       "      <th>VWC</th>\n",
       "    </tr>\n",
       "  </thead>\n",
       "  <tbody>\n",
       "    <tr>\n",
       "      <th>0</th>\n",
       "      <td>1</td>\n",
       "      <td>55</td>\n",
       "      <td>32.6</td>\n",
       "      <td>43.3</td>\n",
       "      <td>24.1</td>\n",
       "      <td>1.14</td>\n",
       "      <td>4.50</td>\n",
       "      <td>0.841595</td>\n",
       "      <td>0.558</td>\n",
       "    </tr>\n",
       "    <tr>\n",
       "      <th>1</th>\n",
       "      <td>1</td>\n",
       "      <td>97</td>\n",
       "      <td>19.8</td>\n",
       "      <td>67.0</td>\n",
       "      <td>13.2</td>\n",
       "      <td>1.14</td>\n",
       "      <td>3.56</td>\n",
       "      <td>1.069393</td>\n",
       "      <td>0.487</td>\n",
       "    </tr>\n",
       "    <tr>\n",
       "      <th>2</th>\n",
       "      <td>1</td>\n",
       "      <td>166</td>\n",
       "      <td>27.7</td>\n",
       "      <td>41.6</td>\n",
       "      <td>30.7</td>\n",
       "      <td>1.15</td>\n",
       "      <td>3.00</td>\n",
       "      <td>2.057260</td>\n",
       "      <td>0.394</td>\n",
       "    </tr>\n",
       "    <tr>\n",
       "      <th>3</th>\n",
       "      <td>1</td>\n",
       "      <td>1015</td>\n",
       "      <td>45.7</td>\n",
       "      <td>30.4</td>\n",
       "      <td>24.0</td>\n",
       "      <td>0.85</td>\n",
       "      <td>0.49</td>\n",
       "      <td>1.360000</td>\n",
       "      <td>0.620</td>\n",
       "    </tr>\n",
       "    <tr>\n",
       "      <th>4</th>\n",
       "      <td>1</td>\n",
       "      <td>1066</td>\n",
       "      <td>13.5</td>\n",
       "      <td>25.5</td>\n",
       "      <td>61.0</td>\n",
       "      <td>1.23</td>\n",
       "      <td>1.27</td>\n",
       "      <td>2.690000</td>\n",
       "      <td>0.250</td>\n",
       "    </tr>\n",
       "  </tbody>\n",
       "</table>\n",
       "</div>"
      ],
      "text/plain": [
       "   fold    no  clay  silt  sand    BD   omc        pF    VWC\n",
       "0     1    55  32.6  43.3  24.1  1.14  4.50  0.841595  0.558\n",
       "1     1    97  19.8  67.0  13.2  1.14  3.56  1.069393  0.487\n",
       "2     1   166  27.7  41.6  30.7  1.15  3.00  2.057260  0.394\n",
       "3     1  1015  45.7  30.4  24.0  0.85  0.49  1.360000  0.620\n",
       "4     1  1066  13.5  25.5  61.0  1.23  1.27  2.690000  0.250"
      ]
     },
     "execution_count": 20,
     "metadata": {},
     "output_type": "execute_result"
    }
   ],
   "source": [
    "# Tureky soil samples are the soils starting with 'no' 1000 or above\n",
    "data = pd.read_csv('data.csv') \\\n",
    "            .drop('hhpa', axis=1)\n",
    "data['VWC'] = data['VWC']/100\n",
    "print(data.shape) \n",
    "data.head()"
   ]
  },
  {
   "attachments": {},
   "cell_type": "markdown",
   "metadata": {},
   "source": [
    "## EDA"
   ]
  },
  {
   "cell_type": "code",
   "execution_count": null,
   "metadata": {},
   "outputs": [],
   "source": [
    "data.groupby('fold').count()"
   ]
  },
  {
   "cell_type": "code",
   "execution_count": null,
   "metadata": {},
   "outputs": [],
   "source": [
    "plt.figure(figsize=(18, 10))\n",
    "sns.boxplot(data=data.iloc[:, 2:])\n",
    "plt.show()"
   ]
  },
  {
   "cell_type": "code",
   "execution_count": null,
   "metadata": {},
   "outputs": [],
   "source": [
    "data.describe()"
   ]
  },
  {
   "cell_type": "code",
   "execution_count": 7,
   "metadata": {},
   "outputs": [
    {
     "data": {
      "image/png": "[encoded data removed]",
      "text/plain": [
       "<Figure size 864x576 with 2 Axes>"
      ]
     },
     "metadata": {
      "needs_background": "light"
     },
     "output_type": "display_data"
    }
   ],
   "source": [
    "sns.reset_orig()\n",
    "plt.figure(figsize=(12,8))\n",
    "corr = data.iloc[:, 2:].corr()\n",
    "# Getting the Upper Triangle of the co-relation matrix\n",
    "matrix = np.triu(corr)\n",
    "\n",
    "sns.heatmap(corr, annot = True, mask=matrix,cmap=\"YlGnBu\")\n",
    "plt.show()"
   ]
  },
  {
   "attachments": {},
   "cell_type": "markdown",
   "metadata": {},
   "source": [
    "# Defining functions"
   ]
  },
  {
   "cell_type": "code",
   "execution_count": 19,
   "metadata": {},
   "outputs": [],
   "source": [
    "# from keras_tuner.tuners import RandomSearch \n",
    "from sklearn.preprocessing import StandardScaler\n",
    "from sklearn.metrics import mean_squared_error, mean_absolute_error"
   ]
  },
  {
   "cell_type": "code",
   "execution_count": null,
   "metadata": {},
   "outputs": [],
   "source": [
    "# # Make directory for storing saved models\n",
    "# os.makedirs('model4')"
   ]
  },
  {
   "attachments": {},
   "cell_type": "markdown",
   "metadata": {},
   "source": [
    "## Define the `bagging` function"
   ]
  },
  {
   "cell_type": "code",
   "execution_count": null,
   "metadata": {},
   "outputs": [],
   "source": [
    "def bagging(rawdata):\n",
    "    \"\"\"Take bootstrap samples - sampling with replacement\"\"\"\n",
    "    ###generator random sample id with replacement\n",
    "    idx = pd.DataFrame(rawdata[['no']])\n",
    "    idx_rmdup = idx.drop_duplicates()\n",
    "    length = len(idx_rmdup)\n",
    "    samples = idx_rmdup.sample(length, replace= True)\n",
    "    # changing the sample id into one dimensional list in order to label sampleid in idx \n",
    "    samples_list = samples.transpose().values.tolist()[0] \n",
    "    ###going through the sampleid dataframe and marking the sample as training or validation dataset. \n",
    "    idx['labels'] = ['training' if x in samples_list else 'validation'  for x in idx['no'] ]\n",
    "    rawdata_con = pd.concat([rawdata,idx['labels']],axis = 1)\n",
    "    ###spliting rawdata into training and validation based on label column \n",
    "    grouped_rawdata = rawdata_con.groupby('labels')\n",
    "    training = grouped_rawdata.get_group('training')\n",
    "    validation = grouped_rawdata.get_group('validation')\n",
    "    return training,validation"
   ]
  },
  {
   "attachments": {},
   "cell_type": "markdown",
   "metadata": {},
   "source": [
    "## `build_model` function"
   ]
  },
  {
   "cell_type": "code",
   "execution_count": null,
   "metadata": {},
   "outputs": [],
   "source": [
    "def build_model(hp):\n",
    "    \"\"\"Build and compile the NN model\"\"\"\n",
    "    model = tf.keras.Sequential([\n",
    "       tf.keras.layers.Dense(\n",
    "                        units=hp.Int('units',\n",
    "                        min_value=2,\n",
    "                        max_value=14,\n",
    "                        step=1),\n",
    "                        activation=hp.Choice(\"activation\", [\"relu\", \"tanh\"])\n",
    "                        ),\n",
    "        tf.keras.layers.Dense(units=1)\n",
    "        ])\n",
    "    \n",
    "    model.compile(optimizer=tf.keras.optimizers.Adam(),\n",
    "            loss='mse',\n",
    "            metrics=['mae'])\n",
    "    return model"
   ]
  },
  {
   "attachments": {},
   "cell_type": "markdown",
   "metadata": {},
   "source": [
    "## Define `wettodry` and `drytowet` functions"
   ]
  },
  {
   "cell_type": "code",
   "execution_count": 3,
   "metadata": {},
   "outputs": [],
   "source": [
    "def wettodry(vwc):\n",
    "    vwc = [0 if i < 0 else i for i in vwc]\n",
    "    w2d = [vwc[0]]\n",
    "    for idx in range(1, len(vwc)):\n",
    "        if vwc[idx] < w2d[idx-1]:\n",
    "            w2d.append(vwc[idx])\n",
    "        else:\n",
    "            w2d.append(w2d[idx-1])\n",
    "    return w2d\n",
    "\n",
    "def drytowet(vwc):\n",
    "    vwc = [0 if i < 0 else i for i in vwc]\n",
    "    rslt_reverse = vwc[::-1]\n",
    "    d2w = [rslt_reverse[0]]\n",
    "    for idx in range(1, len(vwc)):\n",
    "        if rslt_reverse[idx] > d2w[idx-1]:\n",
    "            d2w.append(rslt_reverse[idx])\n",
    "        else:\n",
    "            d2w.append(d2w[idx-1])\n",
    "    return d2w[::-1]"
   ]
  },
  {
   "attachments": {},
   "cell_type": "markdown",
   "metadata": {},
   "source": [
    "## Define `bag_predict`\n",
    "and return mean and standard deviations"
   ]
  },
  {
   "cell_type": "code",
   "execution_count": 4,
   "metadata": {},
   "outputs": [],
   "source": [
    "def bag_predict(models, X_test):\n",
    "    bag_pred = pd.DataFrame()\n",
    "    for ann in models:\n",
    "        # print(ann)\n",
    "        ann_all = tf.keras.models.load_model(ann)\n",
    "        y_pred = ann_all.predict(X_test)\n",
    "        w2d = wettodry(y_pred.ravel().tolist())\n",
    "        d2w = drytowet(y_pred.ravel().tolist())\n",
    "        # print(w2d==d2w)\n",
    "        pred_list = [(g + h) / 2 for g, h in zip(w2d, d2w)]\n",
    "        bag_pred[ann[ann.find('ann'):-3]] = pd.Series(pred_list)\n",
    "\n",
    "    mean_vwc = bag_pred.mean(axis=1)\n",
    "    std_vwc = bag_pred.std(axis=1)\n",
    "    return mean_vwc, std_vwc"
   ]
  },
  {
   "attachments": {},
   "cell_type": "markdown",
   "metadata": {},
   "source": [
    "# Bootstrap (finding and fitting best models)"
   ]
  },
  {
   "cell_type": "code",
   "execution_count": null,
   "metadata": {},
   "outputs": [],
   "source": [
    "losses = {}\n",
    "\n",
    "iteration = 100\n",
    "for bb in range(iteration):\n",
    "    training, validation = bagging(data)\n",
    "    ## MODEL 1\n",
    "    # X_train = training.iloc[:,2:-2]\n",
    "    # X_valid = validation.iloc[:,2:-2]\n",
    "    ## MODEL 2\n",
    "    # X_train = training.loc[:,['clay', 'silt', 'sand','pF']]\n",
    "    # X_valid = validation.loc[:,['clay', 'silt', 'sand','pF']]\n",
    "    ## MODEL 3\n",
    "    # X_train = training.loc[:,['clay', 'silt', 'sand','BD', 'pF']]\n",
    "    # X_valid = validation.loc[:,['clay', 'silt', 'sand', 'BD', 'pF']]\n",
    "    ## MODEL 4\n",
    "    X_train = training.loc[:,['clay', 'silt', 'sand','omc', 'pF']]\n",
    "    X_valid = validation.loc[:,['clay', 'silt', 'sand', 'omc', 'pF']]\n",
    "\n",
    "    y_train = training.iloc[:,-2]\n",
    "    y_valid = validation.iloc[:,-2]\n",
    "\n",
    "    # scaler = MinMaxScaler() \n",
    "    scaler = StandardScaler()\n",
    "    X_train = scaler.fit_transform(X_train)\n",
    "    X_valid = scaler.transform(X_valid)\n",
    "\n",
    "    tuner = RandomSearch(\n",
    "        build_model,    \n",
    "        objective='val_loss',\n",
    "        max_trials=5,\n",
    "        executions_per_trial=1,\n",
    "        overwrite=True,\n",
    "        directory='project',\n",
    "        project_name='HPtuning_'+str(bb))\n",
    "\n",
    "    early_stop = [tf.keras.callbacks.EarlyStopping(monitor=\"val_loss\",\n",
    "                    patience=4,\n",
    "                    restore_best_weights=True)]\n",
    "\n",
    "    tuner.search(X_train, y_train,\n",
    "                epochs=25,\n",
    "                validation_data=(X_valid, y_valid),\n",
    "                callbacks=early_stop,\n",
    "                verbose=2)\n",
    "\n",
    "    print(f\"Fitting the best model for iteration {bb+1}.......\" \"\\n\"\n",
    "            f\"Training Size = {len(training)}, validation Size = {len(validation)}\" \"\\n\"\n",
    "            f\"Unique soils in Training = {len(training.no.unique())}\" \"\\n\"\n",
    "            f\"Unique soils in Validation = {len(validation.no.unique())}\" \"\\n\"\n",
    "            f\"INPUT SHAPE: {X_train.shape[1]}\")\n",
    "\n",
    "    best_hps = tuner.get_best_hyperparameters(2)\n",
    "    model = build_model(best_hps[0])\n",
    "\n",
    "    callback = [tf.keras.callbacks.EarlyStopping(monitor=\"val_loss\",\n",
    "                    patience=15,\n",
    "                    restore_best_weights=True),\n",
    "                tf.keras.callbacks.ModelCheckpoint(filepath=\"model4/ann_\"+str(bb)+\".h5\",\n",
    "                    monitor=\"val_loss\",\n",
    "                    save_best_only=True)]\n",
    "    # use `model.fit()` here to train and save the best model from `tuner.search`\n",
    "    history = model.fit(X_train, y_train,\n",
    "                batch_size = 32, epochs = 500,\n",
    "                callbacks=callback,\n",
    "                validation_data=(X_valid, y_valid),\n",
    "                verbose=0)\n",
    "    losses[bb] = history.history\n",
    "    print(f\"Activation function --- {model.layers[0].activation}\"\"\\n\"\n",
    "        f\"Number of hidden neurons = {model.layers[0].units}\")\n",
    "    print(\"Done\")"
   ]
  },
  {
   "cell_type": "code",
   "execution_count": null,
   "metadata": {},
   "outputs": [],
   "source": [
    "with open('history_4.pkl', 'wb') as handle:\n",
    "    pickle.dump(losses, handle, protocol=pickle.HIGHEST_PROTOCOL)"
   ]
  },
  {
   "cell_type": "code",
   "execution_count": null,
   "metadata": {},
   "outputs": [],
   "source": [
    "models = ['model4/ann_'+ str(i) + '.h5' for i in range(100)]\n",
    "hidden_n, activation_fn = [] ,[]\n",
    "for ann in models:\n",
    "    model = tf.keras.models.load_model(ann)\n",
    "    print(model.layers[0].activation, model.layers[0].units)\n",
    "    # hidden_n.append(model.layers[0].units), activation_fn.append(model.layers[0].activation)"
   ]
  },
  {
   "cell_type": "markdown",
   "metadata": {},
   "source": [
    "## Save Scaler"
   ]
  },
  {
   "cell_type": "code",
   "execution_count": null,
   "metadata": {},
   "outputs": [],
   "source": [
    "##MODEL 1\n",
    "scaler = StandardScaler()\n",
    "scaler.fit_transform(data.iloc[:, 2:-1])\n",
    "pickle.dump(scaler, open(\"ann1_stdscaler.pkl\", \"wb\"))\n",
    "\n",
    "##MODEL 2\n",
    "scaler = StandardScaler()\n",
    "scaler.fit_transform(data.loc[:, [\"clay\", \"silt\", \"sand\", \"pF\"]])\n",
    "pickle.dump(scaler, open(\"ann2_stdscaler.pkl\", \"wb\"))\n",
    "\n",
    "## MODEL 3\n",
    "scaler = StandardScaler()\n",
    "scaler.fit_transform(data.loc[:, [\"clay\", \"silt\", \"sand\", \"BD\", \"pF\"]])\n",
    "pickle.dump(scaler, open(\"ann3_stdscaler.pkl\", \"wb\"))\n",
    "\n",
    "## MODEL 4\n",
    "scaler = StandardScaler()\n",
    "scaler.fit_transform(data.loc[:, [\"clay\", \"silt\", \"sand\", \"omc\", \"pF\"]])\n",
    "pickle.dump(scaler, open(\"ann4_stdscaler.pkl\", \"wb\"))"
   ]
  },
  {
   "attachments": {},
   "cell_type": "markdown",
   "metadata": {},
   "source": [
    "# Predict"
   ]
  },
  {
   "attachments": {},
   "cell_type": "markdown",
   "metadata": {},
   "source": [
    "## Import data and apply Scaler"
   ]
  },
  {
   "cell_type": "code",
   "execution_count": null,
   "metadata": {},
   "outputs": [],
   "source": [
    "file = os.path.abspath('PTF3_data.xlsx')\n",
    "\n",
    "data2 = pd.read_excel(file,'lab')\n",
    "data2 = data2.head(1016).iloc[:,:17]\n",
    "data2.columns, data2.shape"
   ]
  },
  {
   "cell_type": "code",
   "execution_count": null,
   "metadata": {},
   "outputs": [],
   "source": [
    "scaler = pickle.load(open('ann2_stdscaler.pkl', 'rb'))"
   ]
  },
  {
   "attachments": {},
   "cell_type": "markdown",
   "metadata": {},
   "source": [
    "## Create Test data"
   ]
  },
  {
   "cell_type": "code",
   "execution_count": null,
   "metadata": {},
   "outputs": [],
   "source": [
    "def create_Xtest(data):\n",
    "    \"\"\"enter the dataframe and this function will return the X_test data\"\"\"\n",
    "    pF = pd.Series(np.arange(-1, 6, 0.05), name='pF')\n",
    "    df = pd.concat([data.drop_duplicates()]*len(pF), ignore_index=True)\n",
    "    test = pd.concat([df,pF], axis=1)\n",
    "    return test"
   ]
  },
  {
   "cell_type": "code",
   "execution_count": null,
   "metadata": {},
   "outputs": [],
   "source": [
    "colList = ['no', 'clay', 'silt', 'sand']\n",
    "df_group = data[colList].groupby(['no'])\n",
    "test_all = df_group.apply(create_Xtest)"
   ]
  },
  {
   "cell_type": "code",
   "execution_count": null,
   "metadata": {},
   "outputs": [],
   "source": [
    "rand_soil = random.choice(data.no.unique())\n",
    "print(rand_soil)\n",
    "soil_test = test_all[test_all['no']==rand_soil]\n",
    "\n",
    "X_test = scaler.transform(soil_test.iloc[:,1:])"
   ]
  },
  {
   "attachments": {},
   "cell_type": "markdown",
   "metadata": {},
   "source": [
    "Have to use `bag_predict` and scaler on each soil individually.\n",
    "Making predicitons on the entire dataset results in wrong results"
   ]
  },
  {
   "attachments": {},
   "cell_type": "markdown",
   "metadata": {},
   "source": [
    "## Apply `bag_predict`"
   ]
  },
  {
   "cell_type": "code",
   "execution_count": null,
   "metadata": {},
   "outputs": [],
   "source": [
    "models = ['model2/ann_'+ str(i) + '.h5' for i in range(100)]\n",
    "mean_vwc, std_vwc = bag_predict(models, X_test)"
   ]
  },
  {
   "cell_type": "code",
   "execution_count": null,
   "metadata": {},
   "outputs": [],
   "source": [
    "result_all = pd.concat([test_all.reset_index(drop=True), pd.Series(mean_vwc, name = 'mean_vwc'),\n",
    "            pd.Series(std_vwc, name = 'std_vwc')], axis=1)"
   ]
  }
 ],
 "metadata": {
  "kernelspec": {
   "display_name": "tf",
   "language": "python",
   "name": "python3"
  },
  "language_info": {
   "codemirror_mode": {
    "name": "ipython",
    "version": 3
   },
   "file_extension": ".py",
   "mimetype": "text/x-python",
   "name": "python",
   "nbconvert_exporter": "python",
   "pygments_lexer": "ipython3",
   "version": "3.9.13"
  },
  "orig_nbformat": 4
 },
 "nbformat": 4,
 "nbformat_minor": 2
}
