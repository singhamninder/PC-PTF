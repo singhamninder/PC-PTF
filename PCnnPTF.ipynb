{
 "cells": [
  {
   "cell_type": "code",
   "execution_count": 1,
   "metadata": {},
   "outputs": [
    {
     "name": "stdout",
     "output_type": "stream",
     "text": [
      "TensorFlow has access to the following devices:\n",
      "[PhysicalDevice(name='/physical_device:CPU:0', device_type='CPU'), PhysicalDevice(name='/physical_device:GPU:0', device_type='GPU')]\n",
      "TensorFlow version: 2.8.0\n"
     ]
    }
   ],
   "source": [
    "import tensorflow as tf\n",
    "print(f\"TensorFlow has access to the following devices:\\n{tf.config.list_physical_devices()}\")\n",
    "print(f\"TensorFlow version: {tf.__version__}\")"
   ]
  },
  {
   "cell_type": "code",
   "execution_count": 356,
   "metadata": {},
   "outputs": [],
   "source": [
    "import numpy as np\n",
    "import pandas as pd\n",
    "import matplotlib.pyplot as plt\n",
    "from matplotlib.ticker import (MultipleLocator, AutoMinorLocator)\n",
    "import seaborn as sns\n",
    "import os\n",
    "import pickle"
   ]
  },
  {
   "cell_type": "markdown",
   "metadata": {},
   "source": [
    "# Import data"
   ]
  },
  {
   "cell_type": "code",
   "execution_count": 3,
   "metadata": {},
   "outputs": [
    {
     "name": "stdout",
     "output_type": "stream",
     "text": [
      "(20383, 9)\n"
     ]
    },
    {
     "data": {
      "text/html": [
       "<div>\n",
       "<style scoped>\n",
       "    .dataframe tbody tr th:only-of-type {\n",
       "        vertical-align: middle;\n",
       "    }\n",
       "\n",
       "    .dataframe tbody tr th {\n",
       "        vertical-align: top;\n",
       "    }\n",
       "\n",
       "    .dataframe thead th {\n",
       "        text-align: right;\n",
       "    }\n",
       "</style>\n",
       "<table border=\"1\" class=\"dataframe\">\n",
       "  <thead>\n",
       "    <tr style=\"text-align: right;\">\n",
       "      <th></th>\n",
       "      <th>fold</th>\n",
       "      <th>no</th>\n",
       "      <th>clay</th>\n",
       "      <th>silt</th>\n",
       "      <th>sand</th>\n",
       "      <th>BD</th>\n",
       "      <th>omc</th>\n",
       "      <th>pF</th>\n",
       "      <th>VWC</th>\n",
       "    </tr>\n",
       "  </thead>\n",
       "  <tbody>\n",
       "    <tr>\n",
       "      <th>0</th>\n",
       "      <td>1</td>\n",
       "      <td>55</td>\n",
       "      <td>32.6</td>\n",
       "      <td>43.3</td>\n",
       "      <td>24.1</td>\n",
       "      <td>1.14</td>\n",
       "      <td>4.50</td>\n",
       "      <td>0.841595</td>\n",
       "      <td>55.8</td>\n",
       "    </tr>\n",
       "    <tr>\n",
       "      <th>1</th>\n",
       "      <td>1</td>\n",
       "      <td>97</td>\n",
       "      <td>19.8</td>\n",
       "      <td>67.0</td>\n",
       "      <td>13.2</td>\n",
       "      <td>1.14</td>\n",
       "      <td>3.56</td>\n",
       "      <td>1.069393</td>\n",
       "      <td>48.7</td>\n",
       "    </tr>\n",
       "    <tr>\n",
       "      <th>2</th>\n",
       "      <td>1</td>\n",
       "      <td>166</td>\n",
       "      <td>27.7</td>\n",
       "      <td>41.6</td>\n",
       "      <td>30.7</td>\n",
       "      <td>1.15</td>\n",
       "      <td>3.00</td>\n",
       "      <td>2.057260</td>\n",
       "      <td>39.4</td>\n",
       "    </tr>\n",
       "    <tr>\n",
       "      <th>3</th>\n",
       "      <td>1</td>\n",
       "      <td>1015</td>\n",
       "      <td>45.7</td>\n",
       "      <td>30.4</td>\n",
       "      <td>24.0</td>\n",
       "      <td>0.85</td>\n",
       "      <td>0.49</td>\n",
       "      <td>1.360000</td>\n",
       "      <td>62.0</td>\n",
       "    </tr>\n",
       "    <tr>\n",
       "      <th>4</th>\n",
       "      <td>1</td>\n",
       "      <td>1066</td>\n",
       "      <td>13.5</td>\n",
       "      <td>25.5</td>\n",
       "      <td>61.0</td>\n",
       "      <td>1.23</td>\n",
       "      <td>1.27</td>\n",
       "      <td>2.690000</td>\n",
       "      <td>25.0</td>\n",
       "    </tr>\n",
       "  </tbody>\n",
       "</table>\n",
       "</div>"
      ],
      "text/plain": [
       "   fold    no  clay  silt  sand    BD   omc        pF   VWC\n",
       "0     1    55  32.6  43.3  24.1  1.14  4.50  0.841595  55.8\n",
       "1     1    97  19.8  67.0  13.2  1.14  3.56  1.069393  48.7\n",
       "2     1   166  27.7  41.6  30.7  1.15  3.00  2.057260  39.4\n",
       "3     1  1015  45.7  30.4  24.0  0.85  0.49  1.360000  62.0\n",
       "4     1  1066  13.5  25.5  61.0  1.23  1.27  2.690000  25.0"
      ]
     },
     "execution_count": 3,
     "metadata": {},
     "output_type": "execute_result"
    }
   ],
   "source": [
    "# Tureky soil samples are the soils starting with 'no' 1000 or above\n",
    "data = pd.read_csv('data.csv') \\\n",
    "            .drop('hhpa', axis=1)\n",
    "print(data.shape) \n",
    "data.head()"
   ]
  },
  {
   "cell_type": "markdown",
   "metadata": {},
   "source": [
    "## EDA"
   ]
  },
  {
   "cell_type": "code",
   "execution_count": null,
   "metadata": {},
   "outputs": [],
   "source": [
    "data.groupby('fold').count()"
   ]
  },
  {
   "cell_type": "code",
   "execution_count": null,
   "metadata": {},
   "outputs": [],
   "source": [
    "import matplotlib.pyplot as plt\n",
    "plt.figure(figsize=(18, 10))\n",
    "sns.boxplot(data=data.iloc[:, 2:])\n",
    "plt.show()"
   ]
  },
  {
   "cell_type": "code",
   "execution_count": null,
   "metadata": {},
   "outputs": [],
   "source": [
    "data.describe()"
   ]
  },
  {
   "cell_type": "code",
   "execution_count": null,
   "metadata": {},
   "outputs": [],
   "source": [
    "sns.reset_orig()\n",
    "plt.figure(figsize=(18,12))\n",
    "corr = data.iloc[:, 2:].corr()\n",
    "# Getting the Upper Triangle of the co-relation matrix\n",
    "matrix = np.triu(corr)\n",
    "\n",
    "sns.heatmap(corr, annot = True, mask=matrix,cmap=\"YlGnBu\")\n",
    "plt.show()"
   ]
  },
  {
   "cell_type": "code",
   "execution_count": null,
   "metadata": {},
   "outputs": [],
   "source": [
    "# sns.pairplot(data.iloc[:, 2:]);"
   ]
  },
  {
   "cell_type": "markdown",
   "metadata": {},
   "source": [
    "# Neural Network Model"
   ]
  },
  {
   "cell_type": "code",
   "execution_count": 4,
   "metadata": {},
   "outputs": [],
   "source": [
    "from keras_tuner.tuners import RandomSearch\n",
    "from sklearn.preprocessing import MinMaxScaler\n",
    "from sklearn.model_selection import StratifiedGroupKFold, GroupKFold\n",
    "from sklearn.metrics import mean_squared_error, mean_absolute_error"
   ]
  },
  {
   "cell_type": "code",
   "execution_count": null,
   "metadata": {},
   "outputs": [],
   "source": [
    "## Make directory for storing saved models\n",
    "# os.makedirs('models')"
   ]
  },
  {
   "cell_type": "markdown",
   "metadata": {},
   "source": [
    "## Build Models"
   ]
  },
  {
   "cell_type": "markdown",
   "metadata": {},
   "source": [
    "### Define the bagging function"
   ]
  },
  {
   "cell_type": "code",
   "execution_count": 6,
   "metadata": {},
   "outputs": [],
   "source": [
    "def bagging(rawdata):\n",
    "    \"\"\"Take bootstrap samples - sampling with replacement.\n",
    "    Similar to GroupKFold or StratifiedGroupKFold but these functions require \n",
    "    atleast 2 number of splits\"\"\"\n",
    "    ###generator random sample id with replacement \n",
    "    # m,n = rawdata.shape\n",
    "    idx = pd.DataFrame(rawdata[['no']])\n",
    "    idx_rmdup = idx.drop_duplicates()\n",
    "    length = len(idx_rmdup)\n",
    "    samples = idx_rmdup.sample(length, replace= True)\n",
    "\n",
    "    # changing the sample id into one dimensional list in order to label sampleid in idx \n",
    "    samples_list = samples.transpose().values.tolist()[0] \n",
    "\n",
    "    ###going through the sampleid dataframe and marking the sample as training or validation dataset. \n",
    "    idx['labels'] = ['training' if x in samples_list else 'validation'  for x in idx['no'] ]\n",
    "    rawdata_con = pd.concat([rawdata,idx['labels']],axis = 1)\n",
    "\n",
    "    ###spliting rawdata into training and validation based on label column \n",
    "    grouped_rawdata = rawdata_con.groupby('labels')\n",
    "    training = grouped_rawdata.get_group('training')\n",
    "    validation = grouped_rawdata.get_group('validation')\n",
    "    return training,validation"
   ]
  },
  {
   "cell_type": "markdown",
   "metadata": {},
   "source": [
    "### `build_model` function"
   ]
  },
  {
   "cell_type": "code",
   "execution_count": 7,
   "metadata": {},
   "outputs": [],
   "source": [
    "def build_model(hp):\n",
    "    \"\"\"Build and compile the NN model\"\"\"\n",
    "    model = tf.keras.Sequential([\n",
    "       tf.keras.layers.Dense(\n",
    "                        units=hp.Int('units',\n",
    "                        min_value=2,\n",
    "                        max_value=14,\n",
    "                        step=1), activation= \"relu\"),\n",
    "        tf.keras.layers.Dense(units=1)])\n",
    "    \n",
    "    model.compile(optimizer=tf.keras.optimizers.Adam(),\n",
    "            loss='mse',\n",
    "            metrics=['mae'])\n",
    "    return model"
   ]
  },
  {
   "cell_type": "markdown",
   "metadata": {},
   "source": [
    "### Bootstrap (finding and fitting best models)"
   ]
  },
  {
   "cell_type": "code",
   "execution_count": null,
   "metadata": {},
   "outputs": [],
   "source": [
    "best_parms = {}\n",
    "\n",
    "iteration = 100\n",
    "for bb in range(79,iteration):\n",
    "    training, validation = bagging(data)\n",
    "    X_train = training.iloc[:,2:-2]\n",
    "    y_train = training.iloc[:,-2]/100\n",
    "    X_valid = validation.iloc[:,2:-2]\n",
    "    y_valid = validation.iloc[:,-2]/100\n",
    "\n",
    "    scaler = MinMaxScaler() \n",
    "    X_train = scaler.fit_transform(X_train)\n",
    "    X_valid = scaler.transform(X_valid)\n",
    "\n",
    "    tuner = RandomSearch(\n",
    "        build_model,    \n",
    "        objective='val_loss',\n",
    "        max_trials=3,\n",
    "        executions_per_trial=1,\n",
    "        overwrite=True,\n",
    "        directory='project',\n",
    "        project_name='HPtuning_'+str(bb))\n",
    "\n",
    "    early_stop = [tf.keras.callbacks.EarlyStopping(monitor=\"val_loss\", patience=3,\n",
    "                            restore_best_weights=True)]\n",
    "\n",
    "    tuner.search(X_train, y_train,\n",
    "                epochs=100,\n",
    "                validation_data=(X_valid, y_valid),\n",
    "                callbacks=early_stop,\n",
    "                verbose=2)\n",
    "\n",
    "    best_hps = tuner.get_best_hyperparameters(2)\n",
    "    model = build_model(best_hps[0])\n",
    "\n",
    "    print(f\"Fitting the best model for iteration {bb+1}.......\" \"\\n\"\n",
    "            f\"Training Size = {len(training)}, validation Size = {len(validation)}\" \"\\n\"\n",
    "            f\"Unique soils in Training = {len(training.no.unique())}\" \"\\n\"\n",
    "            f\"Unique soils in Validation = {len(validation.no.unique())}\")\n",
    "    # use `model.fit()` here to train and save the best model from `tuner.search`\n",
    "\n",
    "    best_parms[bb] = tuner.get_best_hyperparameters(num_trials=1)\n",
    "\n",
    "    callback = [tf.keras.callbacks.EarlyStopping(monitor=\"val_loss\", patience=10,\n",
    "                                restore_best_weights=True),\n",
    "                    tf.keras.callbacks.ModelCheckpoint(filepath=\"models/ANN_all\"+str(bb)+\".h5\",\n",
    "                                monitor=\"val_loss\",\n",
    "                                save_best_only=True)]\n",
    "\n",
    "    model.fit(X_train, y_train,\n",
    "                batch_size = 32, epochs = 1000,\n",
    "                callbacks=callback,\n",
    "                validation_data=(X_valid, y_valid),\n",
    "                verbose=0)\n",
    "    print(\"Done\")"
   ]
  },
  {
   "cell_type": "code",
   "execution_count": null,
   "metadata": {},
   "outputs": [],
   "source": [
    "with open('best_hyperParameters.pkl', 'wb') as handle:\n",
    "    pickle.dump(best_parms, handle, protocol=pickle.HIGHEST_PROTOCOL)\n",
    "# with open('filename.pickle', 'rb') as handle:\n",
    "#     b = pickle.load(handle)"
   ]
  },
  {
   "cell_type": "markdown",
   "metadata": {},
   "source": [
    "# Predict"
   ]
  },
  {
   "cell_type": "markdown",
   "metadata": {},
   "source": [
    "## Import data and apply Scaler"
   ]
  },
  {
   "cell_type": "code",
   "execution_count": null,
   "metadata": {},
   "outputs": [],
   "source": [
    "## Save Scaler\n",
    "# scaler = MinMaxScaler() \n",
    "# scaler.fit_transform(data.iloc[:,2:-1])\n",
    "# pickle.dump(scaler, open('annAll_scaler.pkl', 'wb'))"
   ]
  },
  {
   "cell_type": "code",
   "execution_count": 384,
   "metadata": {},
   "outputs": [],
   "source": [
    "scaler = pickle.load(open('annAll_scaler.pkl', 'rb'))"
   ]
  },
  {
   "cell_type": "code",
   "execution_count": 390,
   "metadata": {},
   "outputs": [],
   "source": [
    "pF = pd.Series(np.arange(-1, 6, 0.05), name='pF')\n",
    "\n",
    "soil_df = data[data[\"no\"]==1062]\n",
    "df = pd.concat([soil_df.iloc[:,2:-2].drop_duplicates()]*len(pF), ignore_index=True)\n",
    "test = pd.concat([df,pF], axis=1)\n",
    "\n",
    "X_test = scaler.transform(test)"
   ]
  },
  {
   "cell_type": "markdown",
   "metadata": {},
   "source": [
    "## Define `wettodry` and `drytowet` functions"
   ]
  },
  {
   "cell_type": "code",
   "execution_count": 386,
   "metadata": {},
   "outputs": [],
   "source": [
    "def wettodry(vwc):\n",
    "    vwc = [0 if i < 0 else i for i in vwc]\n",
    "    w2d = [vwc[0]]\n",
    "    for idx in range(1, len(vwc)):\n",
    "        if vwc[idx] < w2d[idx-1]:\n",
    "            w2d.append(vwc[idx])\n",
    "        else:\n",
    "            w2d.append(w2d[idx-1])\n",
    "    return w2d\n",
    "\n",
    "def drytowet(vwc):\n",
    "    vwc = [0 if i < 0 else i for i in vwc]\n",
    "    rslt_reverse = vwc[::-1]\n",
    "    d2w = [rslt_reverse[0]]\n",
    "    for idx in range(1, len(vwc)):\n",
    "        if rslt_reverse[idx] > d2w[idx-1]:\n",
    "            d2w.append(rslt_reverse[idx])\n",
    "        else:\n",
    "            d2w.append(d2w[idx-1])\n",
    "    return d2w[::-1]"
   ]
  },
  {
   "cell_type": "markdown",
   "metadata": {},
   "source": [
    "## `bag_predict`\n",
    "and measure Mean and standard deviations"
   ]
  },
  {
   "cell_type": "code",
   "execution_count": 387,
   "metadata": {},
   "outputs": [],
   "source": [
    "def bag_predict(models):\n",
    "    bag_pred = pd.DataFrame()\n",
    "    for ann in models:\n",
    "        # print(ann)\n",
    "        ann_all = tf.keras.models.load_model(ann)\n",
    "        y_pred = ann_all.predict(X_test)\n",
    "        w2d = wettodry(y_pred.ravel().tolist())\n",
    "        d2w = drytowet(y_pred.ravel().tolist())\n",
    "        print(w2d==d2w)\n",
    "        pred_list = [(g + h) / 2 for g, h in zip(w2d, d2w)]\n",
    "        bag_pred[ann[ann.find('ANN'):-3]] = pd.Series(pred_list)\n",
    "\n",
    "    mean_vwc = bag_pred.mean(axis=1)\n",
    "    std_vwc = bag_pred.std(axis=1)\n",
    "    return mean_vwc, std_vwc"
   ]
  },
  {
   "cell_type": "markdown",
   "metadata": {},
   "source": [
    "## Apply `bag_predict`"
   ]
  },
  {
   "cell_type": "code",
   "execution_count": null,
   "metadata": {},
   "outputs": [],
   "source": [
    "models = ['models/ANN_all'+ str(i) + '.h5' for i in range(100)]\n",
    "mean_vwc, std_vwc = bag_predict(models)"
   ]
  },
  {
   "cell_type": "markdown",
   "metadata": {},
   "source": [
    "## Plot"
   ]
  },
  {
   "cell_type": "code",
   "execution_count": 392,
   "metadata": {},
   "outputs": [
    {
     "data": {
      "image/png": "[encoded data removed]",
      "text/plain": [
       "<Figure size 600x600 with 1 Axes>"
      ]
     },
     "metadata": {},
     "output_type": "display_data"
    }
   ],
   "source": [
    "sns.set(font_scale=1.5, style=\"ticks\")\n",
    "fig, ax = plt.subplots(figsize = (6,6))\n",
    "ax.plot(soil_df['pF'], soil_df['VWC']/100, 'o', alpha=0.6, label = 'VWC')\n",
    "ax.plot(pF, mean_vwc, '-', label = 'ANN_all')\n",
    "ax.fill_between(pF, mean_vwc+std_vwc, mean_vwc-std_vwc, alpha=0.3)\n",
    "ax.set_xlim(0,5)\n",
    "ax.legend(prop={'size': 14})\n",
    "ax.grid(True,linestyle='--')\n",
    "\n",
    "ax.xaxis.set_major_locator(MultipleLocator(1))\n",
    "ax.yaxis.set_major_locator(MultipleLocator(.1))\n",
    "ax.yaxis.set_minor_locator(AutoMinorLocator())\n",
    "ax.xaxis.set_minor_locator(AutoMinorLocator())\n",
    "\n",
    "ax.set_xlabel('pF',size = 18, weight = 'bold')\n",
    "ax.set_ylabel('VWC'r' [$cm^3 cm^{-3}$]',size = 18, weight = 'bold')\n",
    "plt.show()"
   ]
  },
  {
   "cell_type": "markdown",
   "metadata": {},
   "source": [
    "# Miscellaneous"
   ]
  },
  {
   "cell_type": "code",
   "execution_count": null,
   "metadata": {},
   "outputs": [],
   "source": [
    "# import plotly.graph_objects as go\n",
    "# fig = go.Figure()\n",
    "# fig.add_trace(go.Scatter(x=soil_df[\"pF\"], y=soil_df[\"VWC\"]/100,\n",
    "#                         mode='markers',\n",
    "#                         name='VWC'))\n",
    "# fig.add_trace(go.Scatter(x=pF, y=mean_vwc,\n",
    "#                         mode='lines',\n",
    "#                         name='ANN_all'))\n",
    "# fig.show()"
   ]
  }
 ],
 "metadata": {
  "kernelspec": {
   "display_name": "Python 3.9.9 ('tf-env')",
   "language": "python",
   "name": "python3"
  },
  "language_info": {
   "codemirror_mode": {
    "name": "ipython",
    "version": 3
   },
   "file_extension": ".py",
   "mimetype": "text/x-python",
   "name": "python",
   "nbconvert_exporter": "python",
   "pygments_lexer": "ipython3",
   "version": "3.9.9"
  },
  "orig_nbformat": 4,
  "vscode": {
   "interpreter": {
    "hash": "006a9cc80d1d29d75453d472f7ba731118e25787876283bfc9444122899d98be"
   }
  }
 },
 "nbformat": 4,
 "nbformat_minor": 2
}
